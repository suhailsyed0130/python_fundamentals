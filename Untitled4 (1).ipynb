{
 "cells": [
  {
   "cell_type": "code",
   "execution_count": 1,
   "metadata": {},
   "outputs": [],
   "source": [
    "avail_items= {'pen':15,'pencil':10,'notebook':35,'eraser':8,'ink':40,'scale':10}\n",
    "item_count=0\n",
    "total_count=0"
   ]
  },
  {
   "cell_type": "code",
   "execution_count": 2,
   "metadata": {},
   "outputs": [
    {
     "name": "stdout",
     "output_type": "stream",
     "text": [
      "available item list\n",
      "pen = rs.15\n",
      "pencil = rs.10\n",
      "notebook = rs.35\n",
      "eraser = rs.8\n",
      "ink = rs.40\n",
      "scale = rs.10\n",
      "DO U WANT TO BUY ANY ITEM??:y\n",
      "ENTER REQ ITEM :pen\n",
      "ENTER REQ QUANTITY : 10\n",
      "rate of pen(s) is rs.150\n",
      "DO U WANT TO BUY ANY ITEM??:no\n",
      "no. of items purchased is 10\n",
      "total purchase amount is Rs.0\n"
     ]
    }
   ],
   "source": [
    "print('available item list')\n",
    "for item in avail_items:\n",
    "    print(item +' = rs.' + str(avail_items[item]))\n",
    "user_input = input('DO U WANT TO BUY ANY ITEM??:')\n",
    "total_amount = 0\n",
    "item_count =0\n",
    "while user_input!='no':\n",
    "    req_item = input('ENTER REQ ITEM :')\n",
    "    if req_item in avail_items.keys():\n",
    "        quantity=int(input(\"ENTER REQ QUANTITY : \"))\n",
    "        item_count = quantity+item_count\n",
    "        rate= avail_items[req_item]\n",
    "        amount=rate * quantity\n",
    "        print('rate of {}(s) is rs.{}'.format(req_item,amount))\n",
    "        total_amount +=amount\n",
    "        user_input= input('DO U WANT TO BUY ANY ITEM??:')   \n",
    "        \n",
    "    else:\n",
    "        print('sorry! item is not available')\n",
    "print('no. of items purchased is {}'.format(item_count))\n",
    "print('total purchase amount is Rs.{}'.format(total_count))"
   ]
  },
  {
   "cell_type": "code",
   "execution_count": null,
   "metadata": {},
   "outputs": [],
   "source": []
  },
  {
   "cell_type": "code",
   "execution_count": null,
   "metadata": {},
   "outputs": [],
   "source": []
  },
  {
   "cell_type": "code",
   "execution_count": null,
   "metadata": {},
   "outputs": [],
   "source": []
  },
  {
   "cell_type": "code",
   "execution_count": null,
   "metadata": {},
   "outputs": [],
   "source": []
  }
 ],
 "metadata": {
  "kernelspec": {
   "display_name": "Python 3",
   "language": "python",
   "name": "python3"
  },
  "language_info": {
   "codemirror_mode": {
    "name": "ipython",
    "version": 3
   },
   "file_extension": ".py",
   "mimetype": "text/x-python",
   "name": "python",
   "nbconvert_exporter": "python",
   "pygments_lexer": "ipython3",
   "version": "3.7.3"
  }
 },
 "nbformat": 4,
 "nbformat_minor": 2
}
