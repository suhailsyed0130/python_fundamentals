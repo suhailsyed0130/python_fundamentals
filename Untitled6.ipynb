{
 "cells": [
  {
   "cell_type": "code",
   "execution_count": 1,
   "metadata": {},
   "outputs": [],
   "source": [
    "avail_items={'pen':10,'pencil':15,'book':25,'plane':2500}"
   ]
  },
  {
   "cell_type": "code",
   "execution_count": 4,
   "metadata": {},
   "outputs": [
    {
     "name": "stdout",
     "output_type": "stream",
     "text": [
      "WELCOME TO THE SHOP\n",
      "pen= Rs.10\n",
      "pencil= Rs.15\n",
      "book= Rs.25\n",
      "plane= Rs.2500\n",
      "DO U WANT TO BUY?? : no\n",
      "you bought 0 {}(s).\n",
      "your total bill is Rs.0.\n"
     ]
    }
   ],
   "source": [
    "print(\"WELCOME TO THE SHOP\")\n",
    "item_count=0\n",
    "total_amount=0\n",
    "req_items={}\n",
    "for x in avail_items:\n",
    "    print(x +'= Rs.'+ str(avail_items[x]))\n",
    "user_input =input(\"DO U WANT TO BUY?? : \")\n",
    "while user_input!='no':\n",
    "    req_item=input(\"WHAT DO WANT TO BUY?? : \")\n",
    "    req_items = req_item + str(req_items)\n",
    "    if req_item in avail_items:\n",
    "        req_quantity=int(input(\"ENTER THE QUANTITY : \"))\n",
    "        item_count= req_quantity +item_count\n",
    "        rate= avail_items[req_item]\n",
    "        amount= rate * req_quantity\n",
    "        total_amount= amount+total_amount\n",
    "        print(\"you bought {} {}(s).your amount is{}\".format(req_quantity,req_item,amount) )\n",
    "        user_input =input(\"DO U WANT TO BUY?? : \")\n",
    "    else:\n",
    "        print(\"SORRY THE ENTERED ITEM IS NOT AVAILABLE!!!\")\n",
    "print(\"you bought {} {}(s).\".format(item_count,req_items))\n",
    "print(\"your total bill is Rs.{}.\".format(total_amount))"
   ]
  },
  {
   "cell_type": "code",
   "execution_count": null,
   "metadata": {},
   "outputs": [],
   "source": []
  },
  {
   "cell_type": "code",
   "execution_count": null,
   "metadata": {},
   "outputs": [],
   "source": []
  },
  {
   "cell_type": "code",
   "execution_count": null,
   "metadata": {},
   "outputs": [],
   "source": []
  },
  {
   "cell_type": "code",
   "execution_count": null,
   "metadata": {},
   "outputs": [],
   "source": []
  },
  {
   "cell_type": "code",
   "execution_count": null,
   "metadata": {},
   "outputs": [],
   "source": []
  },
  {
   "cell_type": "code",
   "execution_count": null,
   "metadata": {},
   "outputs": [],
   "source": []
  },
  {
   "cell_type": "code",
   "execution_count": null,
   "metadata": {},
   "outputs": [],
   "source": []
  },
  {
   "cell_type": "code",
   "execution_count": null,
   "metadata": {},
   "outputs": [],
   "source": []
  },
  {
   "cell_type": "code",
   "execution_count": null,
   "metadata": {},
   "outputs": [],
   "source": []
  },
  {
   "cell_type": "code",
   "execution_count": null,
   "metadata": {},
   "outputs": [],
   "source": []
  },
  {
   "cell_type": "code",
   "execution_count": null,
   "metadata": {},
   "outputs": [],
   "source": []
  },
  {
   "cell_type": "code",
   "execution_count": null,
   "metadata": {},
   "outputs": [],
   "source": []
  },
  {
   "cell_type": "code",
   "execution_count": null,
   "metadata": {},
   "outputs": [],
   "source": []
  }
 ],
 "metadata": {
  "kernelspec": {
   "display_name": "Python 3",
   "language": "python",
   "name": "python3"
  },
  "language_info": {
   "codemirror_mode": {
    "name": "ipython",
    "version": 3
   },
   "file_extension": ".py",
   "mimetype": "text/x-python",
   "name": "python",
   "nbconvert_exporter": "python",
   "pygments_lexer": "ipython3",
   "version": "3.7.3"
  }
 },
 "nbformat": 4,
 "nbformat_minor": 2
}
