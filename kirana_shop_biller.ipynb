{
 "cells": [
  {
   "cell_type": "code",
   "execution_count": 1,
   "metadata": {},
   "outputs": [],
   "source": [
    "#REQ: MAKE AN BILL MAKER FOR A KIRANA SHOP THAT KEEPS ADDS ON PRICES UNTIL WE PRESS A SPECIFIED KEY;"
   ]
  },
  {
   "cell_type": "code",
   "execution_count": null,
   "metadata": {},
   "outputs": [
    {
     "name": "stdout",
     "output_type": "stream",
     "text": [
      "WELCOME TO THE STORE\n",
      "enter the price/press 'p' to quit : 10\n",
      "bill is Rs.10\n",
      "enter the price/press 'p' to quit : 30\n",
      "bill is Rs.40\n",
      "enter the price/press 'p' to quit : 20\n",
      "bill is Rs.60\n",
      "enter the price/press 'p' to quit : 40\n",
      "bill is Rs.100\n",
      "enter the price/press 'p' to quit : p\n",
      "TOTAL BILL IS Rs.100\n",
      "THANK U FOR SHOPPING WITH US\n",
      "please rate our service(1-5!) :5\n",
      "YOU RATED 5.THANK YOU FOR THE FEED BACK\n",
      "WE ARE HAPPY YOU LIKED THE SERVICE\n"
     ]
    }
   ],
   "source": [
    "print(\"WELCOME TO THE STORE\")\n",
    "bill=0\n",
    "while True:\n",
    "    userinput=input(\"enter the price/press 'p' to quit : \")\n",
    "    if userinput!='p':\n",
    "        bill= bill+int(userinput)\n",
    "        print(\"bill is Rs.{}\".format(bill))\n",
    "    else:\n",
    "        print(\"TOTAL BILL IS Rs.{}\".format(bill))\n",
    "        print(\"THANK U FOR SHOPPING WITH US\")\n",
    "        feedback=int(input(\"please rate our service(1-5!) :\"))\n",
    "        while feedback<=5:\n",
    "            if feedback==1:\n",
    "                print(\"you rated {},thank you for feedback\".format(feedback))\n",
    "                print(\"WE WILL TRY TO IMPROVE THE SERVICE NEXT TIME\")\n",
    "                break\n",
    "            elif feedback==2:\n",
    "                print(\"you rated {},thank you for feedback\".format(feedback))\n",
    "                print(\"WE WILL TRY TO IMPROVE THE SERVICE NEXT TIME\")\n",
    "                break\n",
    "            elif feedback==3:\n",
    "                print(\"YOU RATED {}.THANK YOU FOR THE FEED BACK\".format(feedback))\n",
    "                print(\"HOPE YOU LIKED THE SERVICE\")\n",
    "                break\n",
    "            elif feedback==4:\n",
    "                print(\"YOU RATED {}.THANK YOU FOR THE FEED BACK\".format(feedback))\n",
    "                print(\"WE ARE HAPPY YOU LIKED THE SERVICE\")\n",
    "                break\n",
    "           \n",
    "            elif feedback==5:\n",
    "                print(\"YOU RATED {}.THANK YOU FOR THE FEED BACK\".format(feedback))\n",
    "                print(\"WE ARE HAPPY YOU LIKED THE SERVICE\")\n",
    "                break\n",
    "        else:\n",
    "            print(\"ENTER A VALID RATING :\")\n",
    "            break"
   ]
  },
  {
   "cell_type": "code",
   "execution_count": null,
   "metadata": {},
   "outputs": [],
   "source": []
  },
  {
   "cell_type": "code",
   "execution_count": null,
   "metadata": {},
   "outputs": [],
   "source": []
  },
  {
   "cell_type": "code",
   "execution_count": null,
   "metadata": {},
   "outputs": [],
   "source": []
  },
  {
   "cell_type": "code",
   "execution_count": null,
   "metadata": {},
   "outputs": [],
   "source": []
  },
  {
   "cell_type": "code",
   "execution_count": null,
   "metadata": {},
   "outputs": [],
   "source": []
  },
  {
   "cell_type": "code",
   "execution_count": null,
   "metadata": {},
   "outputs": [],
   "source": []
  },
  {
   "cell_type": "code",
   "execution_count": null,
   "metadata": {},
   "outputs": [],
   "source": []
  },
  {
   "cell_type": "code",
   "execution_count": null,
   "metadata": {},
   "outputs": [],
   "source": []
  },
  {
   "cell_type": "code",
   "execution_count": null,
   "metadata": {},
   "outputs": [],
   "source": []
  },
  {
   "cell_type": "code",
   "execution_count": null,
   "metadata": {},
   "outputs": [],
   "source": []
  },
  {
   "cell_type": "code",
   "execution_count": null,
   "metadata": {},
   "outputs": [],
   "source": []
  }
 ],
 "metadata": {
  "kernelspec": {
   "display_name": "Python 3",
   "language": "python",
   "name": "python3"
  },
  "language_info": {
   "codemirror_mode": {
    "name": "ipython",
    "version": 3
   },
   "file_extension": ".py",
   "mimetype": "text/x-python",
   "name": "python",
   "nbconvert_exporter": "python",
   "pygments_lexer": "ipython3",
   "version": "3.7.3"
  }
 },
 "nbformat": 4,
 "nbformat_minor": 2
}
