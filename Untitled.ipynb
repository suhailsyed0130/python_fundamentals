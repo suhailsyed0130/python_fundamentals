{
 "cells": [
  {
   "cell_type": "code",
   "execution_count": null,
   "metadata": {},
   "outputs": [],
   "source": [
    "#CONDITIONAL STATEMENTS\n",
    "#1. IF STAEMENT\n",
    "#2. IF-ELSE STATEMENT\n",
    "#3. IF-ELIF-IF STATEMENT\n",
    "#4. FOR LOOP STATEMENT\n",
    "#5. WHILE LOOP STATEMENT\n",
    "#6. BREAK LOOP STATEMENT\n",
    "#7.CONTINUE LOOP STATEMENT\n",
    "#8.PASS STATEMENT"
   ]
  },
  {
   "cell_type": "code",
   "execution_count": null,
   "metadata": {},
   "outputs": [],
   "source": []
  },
  {
   "cell_type": "code",
   "execution_count": null,
   "metadata": {},
   "outputs": [],
   "source": [
    "#THE IF-STATEMENT"
   ]
  },
  {
   "cell_type": "code",
   "execution_count": null,
   "metadata": {},
   "outputs": [],
   "source": [
    "general syntax: if test expression:\n",
    "                     body of if"
   ]
  },
  {
   "cell_type": "code",
   "execution_count": 4,
   "metadata": {},
   "outputs": [
    {
     "name": "stdout",
     "output_type": "stream",
     "text": [
      "this is true block\n",
      "thank u\n",
      "i am outside if block\n"
     ]
    }
   ],
   "source": [
    "if True:\n",
    "    print(\"this is true block\")\n",
    "    print(\"thank u\")\n",
    "print(\"i am outside if block\")    \n",
    "    "
   ]
  },
  {
   "cell_type": "code",
   "execution_count": 7,
   "metadata": {},
   "outputs": [],
   "source": [
    "x=30\n",
    "y=40"
   ]
  },
  {
   "cell_type": "code",
   "execution_count": 8,
   "metadata": {},
   "outputs": [
    {
     "name": "stdout",
     "output_type": "stream",
     "text": [
      "y is larger\n"
     ]
    }
   ],
   "source": [
    "if (x>y):\n",
    "    print(\"x is larger\")\n",
    "else:\n",
    "    print(\"y is larger\")"
   ]
  },
  {
   "cell_type": "code",
   "execution_count": 9,
   "metadata": {},
   "outputs": [
    {
     "name": "stdout",
     "output_type": "stream",
     "text": [
      "enter the  number\n",
      "100\n",
      "ENTER THE NUMBER\n",
      "500\n"
     ]
    }
   ],
   "source": [
    "x=int(input(\"enter the  number\\n\"))\n",
    "y=int(input(\"ENTER THE NUMBER\\n\"))"
   ]
  },
  {
   "cell_type": "code",
   "execution_count": 10,
   "metadata": {},
   "outputs": [
    {
     "name": "stdout",
     "output_type": "stream",
     "text": [
      "y is larger\n"
     ]
    }
   ],
   "source": [
    "if (x>y):\n",
    "    print(\"x is larger\")\n",
    "else:\n",
    "    print(\"y is larger\")"
   ]
  },
  {
   "cell_type": "code",
   "execution_count": 13,
   "metadata": {},
   "outputs": [
    {
     "data": {
      "text/plain": [
       "True"
      ]
     },
     "execution_count": 13,
     "metadata": {},
     "output_type": "execute_result"
    }
   ],
   "source": [
    "\n",
    "(x<y)"
   ]
  },
  {
   "cell_type": "code",
   "execution_count": null,
   "metadata": {},
   "outputs": [],
   "source": []
  },
  {
   "cell_type": "code",
   "execution_count": null,
   "metadata": {},
   "outputs": [],
   "source": [
    "#req:program to fin a number is even or odd"
   ]
  },
  {
   "cell_type": "code",
   "execution_count": 14,
   "metadata": {},
   "outputs": [
    {
     "name": "stdout",
     "output_type": "stream",
     "text": [
      "ENTER THE NUMBER\n",
      "25\n"
     ]
    }
   ],
   "source": [
    "num=int(input(\"ENTER THE NUMBER\\n\"))"
   ]
  },
  {
   "cell_type": "code",
   "execution_count": 17,
   "metadata": {},
   "outputs": [
    {
     "name": "stdout",
     "output_type": "stream",
     "text": [
      "GIVEN NUMBER IS ODD\n"
     ]
    }
   ],
   "source": [
    "if (num%2 == 0):\n",
    "    print(\"GIVRN NUMBER IS EVEN\")\n",
    "else:\n",
    "    print(\"GIVEN NUMBER IS ODD\")"
   ]
  },
  {
   "cell_type": "code",
   "execution_count": null,
   "metadata": {},
   "outputs": [],
   "source": [
    "# THE IF-ELIF-IFSTATEMENT"
   ]
  },
  {
   "cell_type": "code",
   "execution_count": null,
   "metadata": {},
   "outputs": [],
   "source": [
    "GENERAL SYNTAX: if test evpression:\n",
    "                    body of if\n",
    "                elif test expression:\n",
    "                    body of elif\n",
    "                else:\n",
    "                    body of else"
   ]
  },
  {
   "cell_type": "code",
   "execution_count": 8,
   "metadata": {},
   "outputs": [
    {
     "name": "stdout",
     "output_type": "stream",
     "text": [
      "GIVE YOUR RATING(1-5)!8\n"
     ]
    }
   ],
   "source": [
    " rat=int(input(\"GIVE YOUR RATING(1-5)!\"))"
   ]
  },
  {
   "cell_type": "code",
   "execution_count": 10,
   "metadata": {},
   "outputs": [
    {
     "name": "stdout",
     "output_type": "stream",
     "text": [
      "invalid rating!!!\n"
     ]
    }
   ],
   "source": [
    "if rat==1:\n",
    "    print(\"YOUR RATING IS 1\")\n",
    "elif rat==2:\n",
    "    print(\"your rating is 2\")\n",
    "elif rat== 3:\n",
    "    print(\"your rating is 3\")\n",
    "elif rat== 4:\n",
    "    print(\"your rating is 4\")\n",
    "elif rat==5:\n",
    "    print(\"your rating is 5\")\n",
    "else:\n",
    "    print(\"invalid rating!!!\")"
   ]
  },
  {
   "cell_type": "code",
   "execution_count": null,
   "metadata": {},
   "outputs": [],
   "source": [
    "#REQ:programme tto find  agiven number is positive or negative or zero with nested-if statement"
   ]
  },
  {
   "cell_type": "code",
   "execution_count": null,
   "metadata": {},
   "outputs": [],
   "source": [
    "General syntax\n",
    "if text expression:\n",
    "    if text expresiion (linkesto the expression above):\n",
    "        print(\"\")\n",
    "    else:\n",
    "        print(\"\")\n",
    "else:\n",
    "    print(\"\")"
   ]
  },
  {
   "cell_type": "code",
   "execution_count": 11,
   "metadata": {},
   "outputs": [
    {
     "name": "stdout",
     "output_type": "stream",
     "text": [
      "ENTER A NUMBER\n",
      "-14\n"
     ]
    }
   ],
   "source": [
    "N = int(input(\"ENTER A NUMBER\\n\"))"
   ]
  },
  {
   "cell_type": "code",
   "execution_count": 14,
   "metadata": {},
   "outputs": [
    {
     "name": "stdout",
     "output_type": "stream",
     "text": [
      "your number is negative\n"
     ]
    }
   ],
   "source": [
    "if (N>=0):\n",
    "    if(N==0):\n",
    "        print(\"your number is zero\" )\n",
    "    else:\n",
    "        print(\"your number is positive\")\n",
    "else:\n",
    "    print(\"your number is negative\")"
   ]
  },
  {
   "cell_type": "code",
   "execution_count": 15,
   "metadata": {},
   "outputs": [
    {
     "name": "stdout",
     "output_type": "stream",
     "text": [
      "ENTER A NUMBER\n",
      "36\n"
     ]
    }
   ],
   "source": [
    "N = int(input(\"ENTER A NUMBER\\n\"))"
   ]
  },
  {
   "cell_type": "code",
   "execution_count": 16,
   "metadata": {},
   "outputs": [
    {
     "name": "stdout",
     "output_type": "stream",
     "text": [
      "your number is positive\n"
     ]
    }
   ],
   "source": [
    "if (N>=0):\n",
    "    if(N==0):\n",
    "        print(\"your number is zero\" )\n",
    "    else:\n",
    "        print(\"your number is positive\")\n",
    "else:\n",
    "    print(\"your number is negative\")"
   ]
  },
  {
   "cell_type": "code",
   "execution_count": null,
   "metadata": {},
   "outputs": [],
   "source": [
    "#REQ:programme to find grade of student (3 subjects)"
   ]
  },
  {
   "cell_type": "code",
   "execution_count": 38,
   "metadata": {},
   "outputs": [
    {
     "name": "stdout",
     "output_type": "stream",
     "text": [
      "enter the marks\n",
      "60\n",
      "enter the marks\n",
      "60\n",
      "enter the marks\n",
      "60\n"
     ]
    }
   ],
   "source": [
    "sub1 = int(input(\"enter the marks\\n\"))\n",
    "sub2 = int(input(\"enter the marks\\n\"))\n",
    "sub3 = int(input(\"enter the marks\\n\"))"
   ]
  },
  {
   "cell_type": "code",
   "execution_count": 39,
   "metadata": {},
   "outputs": [],
   "source": [
    "avg = (sub1+sub2+sub3)/3"
   ]
  },
  {
   "cell_type": "code",
   "execution_count": 40,
   "metadata": {},
   "outputs": [
    {
     "name": "stdout",
     "output_type": "stream",
     "text": [
      "60.0\n"
     ]
    }
   ],
   "source": [
    "print(avg)"
   ]
  },
  {
   "cell_type": "code",
   "execution_count": 49,
   "metadata": {},
   "outputs": [
    {
     "name": "stdout",
     "output_type": "stream",
     "text": [
      "your average is 60.0, you got D grade\n"
     ]
    }
   ],
   "source": [
    "if (avg>=90):\n",
    "    print(\"your average is {}, you got A grade\".format(avg))  \n",
    "elif (avg>=80 and avg<90):\n",
    "    print(\"your average is {}, you got B grade\".format(avg))\n",
    "elif (avg>=70 and avg<80):\n",
    "    print(\"your average is {}, you got C grade\".format(avg))\n",
    "elif (avg>=60 and avg<70):\n",
    "    print(\"your average is {}, you got D grade\".format(avg))\n",
    "else:\n",
    "    print(\"your average is {}, you got E grade\".format(avg))"
   ]
  },
  {
   "cell_type": "code",
   "execution_count": null,
   "metadata": {},
   "outputs": [],
   "source": []
  },
  {
   "cell_type": "code",
   "execution_count": null,
   "metadata": {},
   "outputs": [],
   "source": [
    "#programme to find TNEB bill amont using if-elif-else"
   ]
  },
  {
   "cell_type": "code",
   "execution_count": 51,
   "metadata": {},
   "outputs": [
    {
     "name": "stdout",
     "output_type": "stream",
     "text": [
      "ENTER THE USED UNITS250\n"
     ]
    }
   ],
   "source": [
    "units = int(input(\"ENTER THE USED UNITS\"))"
   ]
  },
  {
   "cell_type": "code",
   "execution_count": 52,
   "metadata": {},
   "outputs": [],
   "source": [
    "amount = 0\n",
    "subsidy = 150"
   ]
  },
  {
   "cell_type": "code",
   "execution_count": 56,
   "metadata": {},
   "outputs": [
    {
     "name": "stdout",
     "output_type": "stream",
     "text": [
      "your bill amount is:780.0\n"
     ]
    }
   ],
   "source": [
    "if units<=100:\n",
    "    amount = 0\n",
    "elif 200>=units>100:\n",
    "    amount = ((units * 1.50) + 20) - subsidy\n",
    "elif 300>=units>200:\n",
    "    amount = ((units * 3.00) +(100 * 1.50) + 30) - subsidy\n",
    "else:\n",
    "    print(\"enter a valid units\")\n",
    "print(f'your bill amount is:{amount}')"
   ]
  },
  {
   "cell_type": "code",
   "execution_count": null,
   "metadata": {},
   "outputs": [],
   "source": []
  },
  {
   "cell_type": "code",
   "execution_count": null,
   "metadata": {},
   "outputs": [],
   "source": [
    "#COMPARISION OPERATORS\n",
    "#==,>=,<=,>,<"
   ]
  },
  {
   "cell_type": "code",
   "execution_count": 57,
   "metadata": {},
   "outputs": [],
   "source": [
    "a=57\n",
    "b=60"
   ]
  },
  {
   "cell_type": "code",
   "execution_count": 58,
   "metadata": {},
   "outputs": [
    {
     "data": {
      "text/plain": [
       "False"
      ]
     },
     "execution_count": 58,
     "metadata": {},
     "output_type": "execute_result"
    }
   ],
   "source": [
    "(a==b)"
   ]
  },
  {
   "cell_type": "code",
   "execution_count": 59,
   "metadata": {},
   "outputs": [
    {
     "data": {
      "text/plain": [
       "True"
      ]
     },
     "execution_count": 59,
     "metadata": {},
     "output_type": "execute_result"
    }
   ],
   "source": [
    "(a<b)"
   ]
  },
  {
   "cell_type": "code",
   "execution_count": null,
   "metadata": {},
   "outputs": [],
   "source": []
  },
  {
   "cell_type": "code",
   "execution_count": null,
   "metadata": {},
   "outputs": [],
   "source": [
    "year = int(input(\"ENTER THE YEAR\"))"
   ]
  },
  {
   "cell_type": "code",
   "execution_count": null,
   "metadata": {},
   "outputs": [],
   "source": [
    "if year%4==0:\n",
    "    if year%100==0:\n",
    "        if year%400==0:\n",
    "            print(\"THE YEAR {} IS A LEAP YEAR\".format(year))\n",
    "else:\n",
    "    print(\"THE YEAR {} IS NOT A LEAP YEAR\".format(year))"
   ]
  },
  {
   "cell_type": "code",
   "execution_count": null,
   "metadata": {},
   "outputs": [],
   "source": []
  }
 ],
 "metadata": {
  "kernelspec": {
   "display_name": "Python 3",
   "language": "python",
   "name": "python3"
  },
  "language_info": {
   "codemirror_mode": {
    "name": "ipython",
    "version": 3
   },
   "file_extension": ".py",
   "mimetype": "text/x-python",
   "name": "python",
   "nbconvert_exporter": "python",
   "pygments_lexer": "ipython3",
   "version": "3.7.3"
  }
 },
 "nbformat": 4,
 "nbformat_minor": 2
}
